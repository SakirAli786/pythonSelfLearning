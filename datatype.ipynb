{
 "cells": [
  {
   "cell_type": "code",
   "execution_count": 3,
   "metadata": {},
   "outputs": [],
   "source": [
    "# Types list:\n",
    "  \n",
    "\n",
    " # .Numeric\n",
    "     # .Integers\n",
    "     # .Float\n",
    "     # .Complex Numbers\n",
    "\n",
    "#Sequence Type\n",
    "     # .String\n",
    "     # .list\n",
    "     # .Tuple\n",
    "     # .Dictionary\n",
    "     # .set\n",
    "\n",
    "# Mutable and Immutable Data types\n",
    "\n",
    "# Mutable object can change its or contents and immutable object cannot.\n",
    "\n",
    "# Mutable Data types:\n",
    "    # .list\n",
    "    # .Dictionary\n",
    "    # .byte array\n",
    "\n",
    "# Immutable Data Types:\n",
    "\n",
    "# .int\n",
    "# .Float\n",
    "# .Complex\n",
    "# .string\n",
    "# .Tuple\n",
    "# .set\n"
   ]
  },
  {
   "cell_type": "code",
   "execution_count": 4,
   "metadata": {},
   "outputs": [],
   "source": [
    " # .Numeric\n",
    "\n",
    "x = 1    # int\n",
    "y = 2.8  # float\n",
    "z = 1j   # complex\n"
   ]
  },
  {
   "cell_type": "code",
   "execution_count": 7,
   "metadata": {},
   "outputs": [
    {
     "name": "stdout",
     "output_type": "stream",
     "text": [
      "1 is of type <class 'int'>\n",
      "2.8 is of type <class 'float'>\n",
      "(1+5j) is of type <class 'complex'>\n"
     ]
    }
   ],
   "source": [
    "x = 1\n",
    "y = 2.8\n",
    "z = 1+5j\n",
    "\n",
    "print(x,\"is of type\",type(x))\n",
    "print(y,\"is of type\",type(y))\n",
    "print(z,\"is of type\",type(z))"
   ]
  },
  {
   "cell_type": "code",
   "execution_count": 8,
   "metadata": {},
   "outputs": [],
   "source": [
    "#String\n",
    "\n",
    "# A string is a collection of one or more character put in a single quote, double-quote or triple quote \n",
    "# Multi-line string can be denoted using triple quotes, \"\"\"or\"\"\"\n",
    " \n"
   ]
  },
  {
   "cell_type": "code",
   "execution_count": 9,
   "metadata": {},
   "outputs": [
    {
     "name": "stdout",
     "output_type": "stream",
     "text": [
      "Hello\n",
      "Hello\n"
     ]
    }
   ],
   "source": [
    "# 'hello' is the same as \"hello\".\n",
    "print(\"Hello\")\n",
    "print('Hello')"
   ]
  },
  {
   "cell_type": "code",
   "execution_count": 1,
   "metadata": {},
   "outputs": [
    {
     "name": "stdout",
     "output_type": "stream",
     "text": [
      "Lorem ipsum dolor sit amet,\n",
      "consectetur adipiscing \n",
      "\n",
      "S\n",
      "\n",
      "elit,\n",
      "sed do eiusmod tempor incididunt\n",
      "ut labore et dolore magna aliqua.\n"
     ]
    }
   ],
   "source": [
    "# Multiline Strings\n",
    "\n",
    "# You can assign a multiline string to a variable by using three quotes:\n",
    "\n",
    "a = \"\"\"Lorem ipsum dolor sit amet,\n",
    "consectetur adipiscing \n",
    "\n",
    "S\n",
    "\n",
    "elit,\n",
    "sed do eiusmod tempor incididunt\n",
    "ut labore et dolore magna aliqua.\"\"\"\n",
    "print(a)"
   ]
  },
  {
   "cell_type": "code",
   "execution_count": 12,
   "metadata": {},
   "outputs": [],
   "source": [
    "# List\n",
    "\n",
    "# List is an ordered seqence of items.\n",
    "# It is one of the most used datatype in python and is very flexible\n",
    "# []\n",
    "\n"
   ]
  },
  {
   "cell_type": "code",
   "execution_count": 13,
   "metadata": {},
   "outputs": [
    {
     "name": "stdout",
     "output_type": "stream",
     "text": [
      "[1, 2.2, 'sakir', 'Badshah'] <class 'list'>\n"
     ]
    }
   ],
   "source": [
    "a=[1,2.2, \"sakir\", 'Badshah']\n",
    "print(a,type(a))"
   ]
  },
  {
   "cell_type": "code",
   "execution_count": 16,
   "metadata": {},
   "outputs": [
    {
     "name": "stdout",
     "output_type": "stream",
     "text": [
      "[1, 2.2, 'sakir', 'Badshah']\n",
      "[1, 2.2, 'sakir', 'Thanaili']\n"
     ]
    }
   ],
   "source": [
    "a=[1,2.2, \"sakir\", 'Badshah']\n",
    "print(a)\n",
    "a[3]=\"Thanaili\"\n",
    "print(a)"
   ]
  },
  {
   "cell_type": "code",
   "execution_count": 17,
   "metadata": {},
   "outputs": [],
   "source": [
    "# Tuple\n",
    "\n",
    "# Tuple is an  ordered sequence of items same as a list \n",
    "# it is defined within parentheses () where items are separeted by commas."
   ]
  },
  {
   "cell_type": "code",
   "execution_count": 18,
   "metadata": {},
   "outputs": [
    {
     "name": "stdout",
     "output_type": "stream",
     "text": [
      "(5, 2.3, 'sakir', 'Badshah', 'kasif')\n"
     ]
    }
   ],
   "source": [
    "tuple=(5,2.3, \"sakir\", 'Badshah', 'kasif')\n",
    "print(tuple)"
   ]
  },
  {
   "cell_type": "code",
   "execution_count": 15,
   "metadata": {},
   "outputs": [
    {
     "name": "stdout",
     "output_type": "stream",
     "text": [
      "(5, 5, 2.3, 'sakir', 'Badshah', 'kasif') <class 'tuple'>\n",
      "Arav Sharma <class 'str'>\n"
     ]
    }
   ],
   "source": [
    "tuple=(5,5,2.3, \"sakir\", 'Badshah', 'kasif')\n",
    "print(tuple, type(tuple))\n",
    "tuple=(\"Arav Sharma\") # maximum use two number other wise it's string\n",
    "print(tuple, type(tuple))"
   ]
  },
  {
   "cell_type": "code",
   "execution_count": 1,
   "metadata": {},
   "outputs": [],
   "source": [
    "#Distionary is a unordered collection of key-value pairs.\n",
    "#In Python, dictionaries are defined within braces{}with each item being a pair in the form key:value"
   ]
  },
  {
   "cell_type": "code",
   "execution_count": 4,
   "metadata": {},
   "outputs": [
    {
     "name": "stdout",
     "output_type": "stream",
     "text": [
      "{'Name': 'sakir', 'Branch': 'IT', 'Roll_number': 327207721, 'Collage_Id': 'IP210154'} <class 'dict'>\n"
     ]
    }
   ],
   "source": [
    "# Dictionaries are used to store data values in key:value pairs.\n",
    "\n",
    "# A dictionary is a collection which is ordered*\n",
    "\n",
    "d={\"Name\":\"sakir\",\n",
    "   \"Branch\":\"IT\",\n",
    "   \"Roll_number\":327207721,\n",
    "   \"Collage_Id\":\"IP210153\", # changeable and do not allow duplicates.\n",
    "   \"Collage_Id\":\"IP210154\"\n",
    "   }\n",
    "print(d,type(d))"
   ]
  },
  {
   "cell_type": "code",
   "execution_count": 8,
   "metadata": {},
   "outputs": [
    {
     "name": "stdout",
     "output_type": "stream",
     "text": [
      "sakir\n"
     ]
    }
   ],
   "source": [
    "d={\"Name\":\"sakir\",\n",
    "   \"Branch\":\"IT\",\n",
    "   \"Roll_number\":327207721,\n",
    "   \"Collage_Id\":\"IP210153\", # changeable and do not allow duplicates.\n",
    "   \"Collage_Id\":\"IP210154\"\n",
    "   }\n",
    "print(d[\"Name\"])"
   ]
  },
  {
   "cell_type": "code",
   "execution_count": 9,
   "metadata": {},
   "outputs": [],
   "source": [
    "# Set\n",
    "\n",
    "# a set is an unordered collection of items.\n",
    "# Every set element is unique (no duplicates) and must be immutable (cannot be changed)\n",
    "# {}"
   ]
  },
  {
   "cell_type": "code",
   "execution_count": 11,
   "metadata": {},
   "outputs": [
    {
     "name": "stdout",
     "output_type": "stream",
     "text": [
      "{1, 2, 3, 4, 5, 6}\n"
     ]
    }
   ],
   "source": [
    "set={\n",
    "    1,2,3,4,5,6\n",
    "}\n",
    "print(set)"
   ]
  },
  {
   "cell_type": "code",
   "execution_count": 13,
   "metadata": {},
   "outputs": [
    {
     "name": "stdout",
     "output_type": "stream",
     "text": [
      "{'Badshah', 2, 34.3, 'sakir', 12, 45}\n"
     ]
    }
   ],
   "source": [
    "#Every set element is unique (no duplicates)\n",
    "set1={\"sakir\",2,45,12, \"Badshah\",34.3,2,45,12,\"sakir\"}\n",
    "print(set1)"
   ]
  },
  {
   "cell_type": "code",
   "execution_count": null,
   "metadata": {},
   "outputs": [],
   "source": []
  },
  {
   "cell_type": "code",
   "execution_count": null,
   "metadata": {},
   "outputs": [],
   "source": []
  }
 ],
 "metadata": {
  "kernelspec": {
   "display_name": "Python 3",
   "language": "python",
   "name": "python3"
  },
  "language_info": {
   "codemirror_mode": {
    "name": "ipython",
    "version": 3
   },
   "file_extension": ".py",
   "mimetype": "text/x-python",
   "name": "python",
   "nbconvert_exporter": "python",
   "pygments_lexer": "ipython3",
   "version": "3.11.3"
  },
  "orig_nbformat": 4
 },
 "nbformat": 4,
 "nbformat_minor": 2
}
